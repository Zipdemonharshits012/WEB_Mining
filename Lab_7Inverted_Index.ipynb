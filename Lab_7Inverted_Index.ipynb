{
  "nbformat": 4,
  "nbformat_minor": 0,
  "metadata": {
    "colab": {
      "name": "Inverted Index.ipynb",
      "provenance": [],
      "collapsed_sections": [],
      "authorship_tag": "ABX9TyNoOj4wq/qVp8ok1K84jBE2",
      "include_colab_link": true
    },
    "kernelspec": {
      "name": "python3",
      "display_name": "Python 3"
    },
    "language_info": {
      "name": "python"
    }
  },
  "cells": [
    {
      "cell_type": "markdown",
      "metadata": {
        "id": "view-in-github",
        "colab_type": "text"
      },
      "source": [
        "<a href=\"https://colab.research.google.com/github/Zipdemonharshits012/WEB_Mining/blob/main/Lab_7Inverted_Index.ipynb\" target=\"_parent\"><img src=\"https://colab.research.google.com/assets/colab-badge.svg\" alt=\"Open In Colab\"/></a>"
      ]
    },
    {
      "cell_type": "code",
      "metadata": {
        "colab": {
          "base_uri": "https://localhost:8080/"
        },
        "id": "4kBlca4ueceU",
        "outputId": "042fede3-fabf-4577-a101-063825b47edb"
      },
      "source": [
        "import nltk\n",
        "nltk.download('punkt')\n",
        "nltk.download('wordnet')\n",
        "from nltk.corpus import stopwords\n",
        "from nltk.tokenize import word_tokenize\n",
        "from collections import Counter\n",
        "from nltk.stem import WordNetLemmatizer \n",
        "\n",
        "lemmatizer = WordNetLemmatizer() \n",
        "stop_words = set(stopwords.words('english'))"
      ],
      "execution_count": null,
      "outputs": [
        {
          "output_type": "stream",
          "text": [
            "[nltk_data] Downloading package punkt to /root/nltk_data...\n",
            "[nltk_data]   Package punkt is already up-to-date!\n",
            "[nltk_data] Downloading package wordnet to /root/nltk_data...\n",
            "[nltk_data]   Package wordnet is already up-to-date!\n"
          ],
          "name": "stdout"
        }
      ]
    },
    {
      "cell_type": "code",
      "metadata": {
        "id": "zVtGCjHZeoaW"
      },
      "source": [
        "def return_list_indices(word, lis):\n",
        "    temp = []\n",
        "    for i in range(len(lis)):\n",
        "        if lis[i]== word:\n",
        "            temp.append(i)\n",
        "    return temp"
      ],
      "execution_count": null,
      "outputs": []
    },
    {
      "cell_type": "code",
      "metadata": {
        "id": "QWfOP8YRe80r"
      },
      "source": [
        "def doc_index(x,docname):\n",
        "    data_rem_stop = word_tokenize(x)\n",
        "    data_rem_stop = [x for x in data_rem_stop if x not in stop_words]\n",
        "    data_rem_stop = [x.lower() for x in data_rem_stop if all([len(x)>1,x.isalpha()])]\n",
        "    data_rem_stop = [lemmatizer.lemmatize(x) for x in data_rem_stop]\n",
        "    counts= Counter(data_rem_stop)\n",
        "    temp_dic = {}\n",
        "    for a in set(data_rem_stop):\n",
        "        temp_dic[a] = f\"<{docname},{counts[a]},{return_list_indices(a,data_rem_stop)}>\"\n",
        "#         print(f\"<{docname},{counts[a]},{return_list_indices(a,data_rem_stop)}>\")\n",
        "#         break\n",
        "    return temp_dic"
      ],
      "execution_count": null,
      "outputs": []
    },
    {
      "cell_type": "code",
      "metadata": {
        "id": "z_rx4z_nlwwR"
      },
      "source": [
        "rhyme1=\"Little girl, little girl, where have you been? Gathering roses to give to the queen. Little girl, little girl, what gave she you? She gave me a diamond as big as my shoe.\""
      ],
      "execution_count": null,
      "outputs": []
    },
    {
      "cell_type": "code",
      "metadata": {
        "id": "nmp1zIZ_l4Rx"
      },
      "source": [
        "rhyme2=\"There was a farmer daddy  who had a dog, And Bingo was his name-o. B-I-N-G-O B-I-N-G-O B-I-N-G-OAnd Bingo was his name-o. There was a farmer who had a dog, And Bingo was his name-o. (clap)-I-N-G-O (clap)-I-N-G-O (clap)-I-N-G-O And Bingo was his name-o. There was a farmer who had a dog, And Bingo was his name-o. (clap)-(clap)-N-G-O (clap)-(clap)-N-G-O (clap)-(clap)-N-G-O  And Bingo was his name-o. There was a farmer who had a dog, And Bingo was his name-o. (clap)-(clap)-(clap)-G-O (clap)-(clap)-(clap)-G-O (clap)-(clap)-(clap)-G-O  And Bingo was his name-o. There was a farmer who had a dog, And Bingo was his name-o. (clap)-(clap)-(clap)-(clap)-O (clap)-(clap)-(clap)-(clap)-O (clap)-(clap)-(clap)-(clap)-O And Bingo was his name-o. There was a farmer who had a dog, And Bingo was his name-o. (clap)-(clap)-(clap)-(clap)-(clap) (clap)-(clap)-(clap)-(clap)-(clap) (clap)-(clap)-(clap)-(clap)-(clap) And Bingo was his name-o\""
      ],
      "execution_count": null,
      "outputs": []
    },
    {
      "cell_type": "code",
      "metadata": {
        "id": "RaBKulSFe-Hd"
      },
      "source": [
        "rhyme3=\"Daddy finger, daddy finger where are you? Here I am here I am How do you do? Mommy finger, mommy finger where are you? Here I am, here I am How do you do? Brother finger, brother finger, where are you? Here I am, here I am How do you do? Sister finger, sister finger where are you? Here I am, here I am How do you do? Baby finger, baby finger where are you? Here I am, here I am How do you do?\""
      ],
      "execution_count": null,
      "outputs": []
    },
    {
      "cell_type": "code",
      "metadata": {
        "id": "Bg3Ss5V2ma7a"
      },
      "source": [
        "dict1 = doc_index(rhyme1,'id1')"
      ],
      "execution_count": null,
      "outputs": []
    },
    {
      "cell_type": "code",
      "metadata": {
        "id": "uJBPA574gM-S"
      },
      "source": [
        "dict2 = doc_index(rhyme2,'id2')"
      ],
      "execution_count": null,
      "outputs": []
    },
    {
      "cell_type": "code",
      "metadata": {
        "id": "TlaYk-twi0lj"
      },
      "source": [
        "dict3 = doc_index(rhyme3,'id3')"
      ],
      "execution_count": null,
      "outputs": []
    },
    {
      "cell_type": "code",
      "metadata": {
        "colab": {
          "base_uri": "https://localhost:8080/"
        },
        "id": "llMn__LsgRBU",
        "outputId": "5285190f-9c24-4f78-d458-ceab41327f51"
      },
      "source": [
        "all_words = list(dict1.keys())+list(dict2.keys())+list(dict3.keys());all_words"
      ],
      "execution_count": null,
      "outputs": [
        {
          "output_type": "execute_result",
          "data": {
            "text/plain": [
              "['girl',\n",
              " 'give',\n",
              " 'little',\n",
              " 'queen',\n",
              " 'gave',\n",
              " 'rose',\n",
              " 'big',\n",
              " 'she',\n",
              " 'shoe',\n",
              " 'gathering',\n",
              " 'diamond',\n",
              " 'bingo',\n",
              " 'dog',\n",
              " 'and',\n",
              " 'clap',\n",
              " 'daddy',\n",
              " 'farmer',\n",
              " 'there',\n",
              " 'brother',\n",
              " 'mommy',\n",
              " 'sister',\n",
              " 'finger',\n",
              " 'how',\n",
              " 'daddy',\n",
              " 'baby',\n",
              " 'here']"
            ]
          },
          "metadata": {
            "tags": []
          },
          "execution_count": 86
        }
      ]
    },
    {
      "cell_type": "code",
      "metadata": {
        "id": "rS8XsGZ8iXZE"
      },
      "source": [
        "inverted_index = {**doc_index(rhyme1,'id1'),**doc_index(rhyme2,'id2'),**doc_index(rhyme3,'id3')}"
      ],
      "execution_count": null,
      "outputs": []
    },
    {
      "cell_type": "code",
      "metadata": {
        "colab": {
          "base_uri": "https://localhost:8080/",
          "height": 36
        },
        "id": "bn3-0r2Tickz",
        "outputId": "e441efbd-d608-4fe5-b974-775791788df4"
      },
      "source": [
        "inverted_index['girl']"
      ],
      "execution_count": null,
      "outputs": [
        {
          "output_type": "execute_result",
          "data": {
            "application/vnd.google.colaboratory.intrinsic+json": {
              "type": "string"
            },
            "text/plain": [
              "'<id1,4,[1, 3, 9, 11]>'"
            ]
          },
          "metadata": {
            "tags": []
          },
          "execution_count": 88
        }
      ]
    },
    {
      "cell_type": "code",
      "metadata": {
        "id": "Vh9OOCp3igtP"
      },
      "source": [
        "for key, value in inverted_index.items():\n",
        "    if key in dict1 and key in dict2 and key in dict3:\n",
        "        inverted_index[key] = str(value) +\",\"+ str(dict1[key])"
      ],
      "execution_count": null,
      "outputs": []
    },
    {
      "cell_type": "code",
      "metadata": {
        "colab": {
          "base_uri": "https://localhost:8080/"
        },
        "id": "lVGiVGFMikhM",
        "outputId": "4a8806b5-7cb5-48ef-c82f-31124afa424b"
      },
      "source": [
        "inverted_index"
      ],
      "execution_count": null,
      "outputs": [
        {
          "output_type": "execute_result",
          "data": {
            "text/plain": [
              "{'and': '<id2,11,[4, 10, 15, 20, 28, 33, 44, 49, 63, 68, 85]>',\n",
              " 'baby': '<id3,2,[24, 26]>',\n",
              " 'big': '<id1,1,[16]>',\n",
              " 'bingo': '<id2,12,[5, 6, 11, 16, 21, 29, 34, 45, 50, 64, 69, 86]>',\n",
              " 'brother': '<id3,2,[12, 14]>',\n",
              " 'clap': '<id2,45,[12, 13, 14, 22, 23, 24, 25, 26, 27, 35, 36, 37, 38, 39, 40, 41, 42, 43, 51, 52, 53, 54, 55, 56, 57, 58, 59, 60, 61, 62, 70, 71, 72, 73, 74, 75, 76, 77, 78, 79, 80, 81, 82, 83, 84]>',\n",
              " 'daddy': '<id3,2,[0, 2]>',\n",
              " 'diamond': '<id1,1,[15]>',\n",
              " 'dog': '<id2,6,[3, 9, 19, 32, 48, 67]>',\n",
              " 'farmer': '<id2,6,[1, 8, 18, 31, 47, 66]>',\n",
              " 'finger': '<id3,10,[1, 3, 7, 9, 13, 15, 19, 21, 25, 27]>',\n",
              " 'gathering': '<id1,1,[4]>',\n",
              " 'gave': '<id1,2,[12, 14]>',\n",
              " 'girl': '<id1,4,[1, 3, 9, 11]>',\n",
              " 'give': '<id1,1,[6]>',\n",
              " 'here': '<id3,5,[4, 10, 16, 22, 28]>',\n",
              " 'how': '<id3,5,[5, 11, 17, 23, 29]>',\n",
              " 'little': '<id1,4,[0, 2, 8, 10]>',\n",
              " 'mommy': '<id3,2,[6, 8]>',\n",
              " 'queen': '<id1,1,[7]>',\n",
              " 'rose': '<id1,1,[5]>',\n",
              " 'she': '<id1,1,[13]>',\n",
              " 'shoe': '<id1,1,[17]>',\n",
              " 'sister': '<id3,2,[18, 20]>',\n",
              " 'there': '<id2,6,[0, 7, 17, 30, 46, 65]>'}"
            ]
          },
          "metadata": {
            "tags": []
          },
          "execution_count": 90
        }
      ]
    },
    {
      "cell_type": "code",
      "metadata": {
        "colab": {
          "base_uri": "https://localhost:8080/",
          "height": 36
        },
        "id": "ZPQuOwwSnAKa",
        "outputId": "099872e2-6a54-4ac0-d6fe-6a4fc18c7b46"
      },
      "source": [
        "rhyme1\n"
      ],
      "execution_count": null,
      "outputs": [
        {
          "output_type": "execute_result",
          "data": {
            "application/vnd.google.colaboratory.intrinsic+json": {
              "type": "string"
            },
            "text/plain": [
              "'Little girl, little girl, where have you been? Gathering roses to give to the queen. Little girl, little girl, what gave she you? She gave me a diamond as big as my shoe.'"
            ]
          },
          "metadata": {
            "tags": []
          },
          "execution_count": 91
        }
      ]
    },
    {
      "cell_type": "code",
      "metadata": {
        "colab": {
          "base_uri": "https://localhost:8080/",
          "height": 124
        },
        "id": "_qHsRw9inBh1",
        "outputId": "e0a7d39b-ec78-460f-9024-74e9c50c4596"
      },
      "source": [
        "rhyme2"
      ],
      "execution_count": null,
      "outputs": [
        {
          "output_type": "execute_result",
          "data": {
            "application/vnd.google.colaboratory.intrinsic+json": {
              "type": "string"
            },
            "text/plain": [
              "'There was a farmer who had a dog, And Bingo was his name-o. B-I-N-G-O B-I-N-G-O B-I-N-G-OAnd Bingo was his name-o. There was a farmer who had a dog, And Bingo was his name-o. (clap)-I-N-G-O (clap)-I-N-G-O (clap)-I-N-G-O And Bingo was his name-o. There was a farmer who had a dog, And Bingo was his name-o. (clap)-(clap)-N-G-O (clap)-(clap)-N-G-O (clap)-(clap)-N-G-O  And Bingo was his name-o. There was a farmer who had a dog, And Bingo was his name-o. (clap)-(clap)-(clap)-G-O (clap)-(clap)-(clap)-G-O (clap)-(clap)-(clap)-G-O  And Bingo was his name-o. There was a farmer who had a dog, And Bingo was his name-o. (clap)-(clap)-(clap)-(clap)-O (clap)-(clap)-(clap)-(clap)-O (clap)-(clap)-(clap)-(clap)-O And Bingo was his name-o. There was a farmer who had a dog, And Bingo was his name-o. (clap)-(clap)-(clap)-(clap)-(clap) (clap)-(clap)-(clap)-(clap)-(clap) (clap)-(clap)-(clap)-(clap)-(clap) And Bingo was his name-o'"
            ]
          },
          "metadata": {
            "tags": []
          },
          "execution_count": 53
        }
      ]
    },
    {
      "cell_type": "code",
      "metadata": {
        "colab": {
          "base_uri": "https://localhost:8080/",
          "height": 71
        },
        "id": "ho3gZYS4nCTG",
        "outputId": "786ff050-0a61-4e0c-dd7f-19366134db03"
      },
      "source": [
        "rhyme3"
      ],
      "execution_count": null,
      "outputs": [
        {
          "output_type": "execute_result",
          "data": {
            "application/vnd.google.colaboratory.intrinsic+json": {
              "type": "string"
            },
            "text/plain": [
              "'Daddy finger, daddy finger where are you? Here I am here I am How do you do? Mommy finger, mommy finger where are you? Here I am, here I am How do you do? Brother finger, brother finger, where are you? Here I am, here I am How do you do? Sister finger, sister finger where are you? Here I am, here I am How do you do? Baby finger, baby finger where are you? Here I am, here I am How do you do?'"
            ]
          },
          "metadata": {
            "tags": []
          },
          "execution_count": 54
        }
      ]
    },
    {
      "cell_type": "code",
      "metadata": {
        "id": "0FWcmRNpnEAU"
      },
      "source": [
        ""
      ],
      "execution_count": null,
      "outputs": []
    }
  ]
}