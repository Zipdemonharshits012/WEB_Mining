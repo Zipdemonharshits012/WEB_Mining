{
  "nbformat": 4,
  "nbformat_minor": 0,
  "metadata": {
    "colab": {
      "name": "Encoding and DecodingWeb mining .ipynb",
      "provenance": [],
      "collapsed_sections": [],
      "authorship_tag": "ABX9TyPTKNpVdyy7IglCIyRYGUqo",
      "include_colab_link": true
    },
    "kernelspec": {
      "name": "python3",
      "display_name": "Python 3"
    },
    "language_info": {
      "name": "python"
    }
  },
  "cells": [
    {
      "cell_type": "markdown",
      "metadata": {
        "id": "view-in-github",
        "colab_type": "text"
      },
      "source": [
        "<a href=\"https://colab.research.google.com/github/Zipdemonharshits012/WEB_Mining/blob/main/Encoding_and_DecodingWeb_mining_.ipynb\" target=\"_parent\"><img src=\"https://colab.research.google.com/assets/colab-badge.svg\" alt=\"Open In Colab\"/></a>"
      ]
    },
    {
      "cell_type": "code",
      "metadata": {
        "id": "P_oFRIztdYK8"
      },
      "source": [
        "\n",
        "#Written by Harshit Soni\n",
        "\n",
        "'''\n",
        "Implement Ellias Gamma, Ellias Delta and Golomb encoding\n",
        "'''\n",
        "\n",
        "from math import log,ceil\n",
        "\n",
        "log2 = lambda x: log(x,2)\n",
        "\n",
        "def binary(x, l = 1):\n",
        "    fmt = '{0:0%db}'%1\n",
        "    return fmt.format(x)\n",
        "\n",
        "def unary(x):\n",
        "    return x*'1'+'0'\n",
        "\n",
        "def elias_generic(lencoding, x):\n",
        "    if x == 0: return '0'\n",
        "    l = 1+int(log2(x))\n",
        "    a = x - 2**(int(log2(x)))\n",
        "    k = int(log2(x))\n",
        "    return lencoding(l) + binary(a,k)\n",
        "\n",
        "def golomb(b, x):\n",
        "    q = int((x) / b)\n",
        "    r = int((x) % b)\n",
        "    l = int(ceil(log2(b)))\n",
        "    #print(q,r,l)\n",
        "    return unary(q) + binary(r, l)\n",
        "\n",
        "def elias_gamma(x):\n",
        "    return elias_generic(unary, x)\n",
        "\n",
        "def elias_delta(x):\n",
        "    return elias_generic(elias_gamma,x)"
      ],
      "execution_count": null,
      "outputs": []
    },
    {
      "cell_type": "code",
      "metadata": {
        "colab": {
          "base_uri": "https://localhost:8080/"
        },
        "id": "_3wuZyZxegnK",
        "outputId": "9776ce89-b75f-4f82-ec32-67e8a25767ae"
      },
      "source": [
        "print(\"%5s: %-10s : %-10s : %-10s\" %(\"Num\", \"Gamma\", \"Delta\", \"Goloumb\"))\n",
        "for i in range(2,21,2):\n",
        "    print(i,elias_gamma(i),elias_delta(i), golomb(i,10))\n",
        "print(type(elias_delta(10)))\n",
        "    "
      ],
      "execution_count": null,
      "outputs": [
        {
          "output_type": "stream",
          "text": [
            "  Num: Gamma      : Delta      : Goloumb   \n",
            "2 1100 11000 1111100\n",
            "4 11100 11010 11010\n",
            "6 111010 110110 10100\n",
            "8 111100 111000 1010\n",
            "10 1111010 1110010 100\n",
            "12 11110100 11100100 01010\n",
            "14 11110110 11100110 01010\n",
            "16 1111100 111010 01010\n",
            "18 11111010 1110110 01010\n",
            "20 111110100 11101100 01010\n",
            "<class 'str'>\n"
          ],
          "name": "stdout"
        }
      ]
    },
    {
      "cell_type": "code",
      "metadata": {
        "id": "uiQQsmqlerZC"
      },
      "source": [
        "\n",
        "#Written By - harshit Soni\n",
        "#19BCE0819\n",
        "\n",
        "\n",
        "def binary_to_decimal(n):\n",
        "    return int(n,2);\n",
        "\n",
        "\n",
        "def elias_delta_decoding(codeword):\n",
        "    count = 0\n",
        "    first_one_idx = -1\n",
        "    for i in range(len(codeword)):\n",
        "        if codeword[i] == '0':\n",
        "            count += 1\n",
        "        else:\n",
        "            first_one_idx = i\n",
        "            break\n",
        "    y = binary_to_decimal(codeword[first_one_idx : first_one_idx + count + 1])\n",
        "    print(y)\n",
        "    y -= 1\n",
        "    dataword = \"1\" + codeword[first_one_idx + count + 1 : first_one_idx + count + 1 + y]\n",
        "    return dataword\n",
        "\n"
      ],
      "execution_count": null,
      "outputs": []
    },
    {
      "cell_type": "code",
      "metadata": {
        "colab": {
          "base_uri": "https://localhost:8080/"
        },
        "id": "dM5U0aMoexCI",
        "outputId": "51bc821d-1e3c-4d1e-9930-e2bdde2cbee6"
      },
      "source": [
        "print(\"Elias Gamma Number\\t  Decoded Elias Gamma to Decimal\")\n",
        "for i in range(2,21,2):\n",
        "    print(\" %-10s        : %-10s\" %(elias_delta(i),elias_delta_decoding(elias_delta(i))))"
      ],
      "execution_count": null,
      "outputs": [
        {
          "output_type": "stream",
          "text": [
            "Elias Gamma Number\t  Decoded Elias Gamma to Decimal\n",
            "1\n",
            " 11000             : 1         \n",
            "1\n",
            " 11010             : 1         \n",
            "1\n",
            " 110110            : 1         \n",
            "1\n",
            " 111000            : 1         \n",
            "1\n",
            " 1110010           : 1         \n",
            "1\n",
            " 11100100          : 1         \n",
            "1\n",
            " 11100110          : 1         \n",
            "1\n",
            " 111010            : 1         \n",
            "1\n",
            " 1110110           : 1         \n",
            "1\n",
            " 11101100          : 1         \n"
          ],
          "name": "stdout"
        }
      ]
    },
    {
      "cell_type": "code",
      "metadata": {
        "colab": {
          "base_uri": "https://localhost:8080/"
        },
        "id": "LKMdOtiHfYcW",
        "outputId": "c88e374d-9465-4e36-b4b7-d6ae43010313"
      },
      "source": [
        "#Golomb Decoding\n",
        "#Written by -Yash Mehta\n",
        "#19BCE0837\n",
        "import math\n",
        "\n",
        "def decode(x):\n",
        "    num=0;\n",
        "    for i in range(len(x)):\n",
        "        num+=(int(x[len(x)-1-i])*(math.pow(2,i)));\n",
        "    return num;\n",
        "\n",
        "def golomb_decoding(x):\n",
        "    x=list(x)\n",
        "    b=10\n",
        "    i=math.floor(math.log(b,2))\n",
        "    d=math.pow(2,i+1)-b\n",
        "\n",
        "\n",
        "    p2=0;\n",
        "    l=1;\n",
        "    while(p2<len(x)):\n",
        "        t=0;\n",
        "        flag=0;\n",
        "        r=[];\n",
        "        k=i;\n",
        "        q=0;\n",
        "        for p in range(p2,len(x)):\n",
        "            if(x[p]=='0' and flag==0):\n",
        "                t+=1;\n",
        "                continue;\n",
        "            if(x[p]=='1' and flag==0):\n",
        "                q=t;\n",
        "                flag=1;\n",
        "                continue;\n",
        "            r.append(x[p]);\n",
        "            k-=1;\n",
        "            if(k==0):\n",
        "                rnum=decode(r);\n",
        "                if(rnum<d):\n",
        "                    p2=p+1;\n",
        "                    break;\n",
        "            if(k==-1):\n",
        "                rnum=decode(r);\n",
        "                rnum=rnum-d;\n",
        "                p2=p+1;\n",
        "                break;\n",
        "        ans=q*b+rnum;\n",
        "        return ans;\n",
        "        l=0;\n",
        "print(\"Golomb Coding- \",\"1111111110010001101\",\" Decimal - \",golomb_decoding(\"1111111110010001101\"))\n",
        "# print(\"Golomb Coding- \",\"1100\",\" Decimal - \",golomb_decoding(\"1100\"))\n",
        "# print(\"Golomb Coding- \",\"11100\",\" Decimal - \",golomb_decoding(\"11100\"))\n",
        "# print(\"Golomb Coding- \",\"11110\",\" Decimal - \",golomb_decoding(\"11110\"))\n",
        "# print(\"Golomb Coding- \",\"01000\",\" Decimal - \",golomb_decoding(\"01000\"))\n",
        "# print(\"Golomb Coding- \",\"01010\",\" Decimal - \",golomb_decoding(\"01010\"))\n",
        "# print(\"Golomb Coding- \",\"01100\",\" Decimal - \",golomb_decoding(\"01100\"))\n",
        "# print(\"Golomb Coding- \",\"011100\",\" Decimal - \",golomb_decoding(\"011100\"))\n",
        "# print(\"Golomb Coding- \",\"011110\",\" Decimal - \",golomb_decoding(\"011110\"))\n",
        "# print(\"Golomb Coding- \",\"001000\",\" Decimal - \",golomb_decoding(\"001000\"))"
      ],
      "execution_count": null,
      "outputs": [
        {
          "output_type": "stream",
          "text": [
            "Golomb Coding-  1111111110010001101  Decimal -  9.0\n"
          ],
          "name": "stdout"
        }
      ]
    },
    {
      "cell_type": "code",
      "metadata": {
        "colab": {
          "base_uri": "https://localhost:8080/"
        },
        "id": "qaxVOqlPsqOb",
        "outputId": "564a1011-ac00-4650-9a30-a71eb9b77595"
      },
      "source": [
        "  import math\n",
        "\n",
        "  def decode(t):\n",
        "      x=[];\n",
        "      if(t==0):\n",
        "          return [0];\n",
        "      while(t>0):\n",
        "          x.append(t%2);\n",
        "          t=int(t/2);\n",
        "      return x\n",
        "\n",
        "  def unary(t):\n",
        "      y=[];\n",
        "      for i in range(t-1):\n",
        "          y.append(0);\n",
        "      y.append(1)\n",
        "      return y;    \n",
        "\n",
        "  def Golomb_encode(x,b): \n",
        "      x1=x;\n",
        "      q=int(x/b)\n",
        "      y=unary(q+1)\n",
        "      r=x-(q*b)\n",
        "      i=math.floor(math.log(b,2));\n",
        "      d=math.pow(2,i+1)-b;\n",
        "      if(r>=d):\n",
        "          r+=int(d);\n",
        "      r2=decode(r);\n",
        "      if(len(r2)<=i and r>=d):\n",
        "          r2.append(0);\n",
        "      if(len(r2)<i and r<d):\n",
        "          r2.append(0);    \n",
        "      r2=r2[::-1];\n",
        "      y=y+r2;\n",
        "      print('Integer ',x1,\"  Golomb \",y);\n",
        "\n",
        "  # print(\"Decimal          Golomb Encoding \")\n",
        "  # for i in range(2,21,2):\n",
        "  #   print(\"number=>> \",i,\" Golomb Encoding=>>  \",Golomb_encode(i, 10))\n",
        "  print(Golomb_encode(50, 11),\"\\n\")\n",
        "  print(Golomb_encode(50, 16),\"\\n\")\n",
        "  print(Golomb_encode(74, 11),\"\\n\")\n",
        "  print(Golomb_encode(74, 16),\"\\n\")"
      ],
      "execution_count": null,
      "outputs": [
        {
          "output_type": "stream",
          "text": [
            "Integer  50   Golomb  [0, 0, 0, 0, 1, 1, 0, 1, 1]\n",
            "None \n",
            "\n",
            "Integer  50   Golomb  [0, 0, 0, 1, 0, 1, 0]\n",
            "None \n",
            "\n",
            "Integer  74   Golomb  [0, 0, 0, 0, 0, 0, 1, 1, 1, 0, 1]\n",
            "None \n",
            "\n",
            "Integer  74   Golomb  [0, 0, 0, 0, 1, 1, 0, 1, 0]\n",
            "None \n",
            "\n"
          ],
          "name": "stdout"
        }
      ]
    },
    {
      "cell_type": "code",
      "metadata": {
        "colab": {
          "base_uri": "https://localhost:8080/"
        },
        "id": "LjBbEUfZqlrT",
        "outputId": "e33af1ac-fd1b-41df-8849-34432882bc2f"
      },
      "source": [
        "pip install golomb_coding"
      ],
      "execution_count": null,
      "outputs": [
        {
          "output_type": "stream",
          "text": [
            "Collecting golomb_coding\n",
            "  Downloading https://files.pythonhosted.org/packages/b0/c7/1f97d298beae2eeb2d82b95a60552f685877522097491a67f874fab4f4b4/golomb_coding-1.0.5.tar.gz\n",
            "Collecting minimal_binary_coding\n",
            "  Downloading https://files.pythonhosted.org/packages/62/20/65206e318e0e2d33a6769503251751842a24b2210cc1a2dc0b3eb5d34235/minimal_binary_coding-1.0.1.tar.gz\n",
            "Collecting unary_coding\n",
            "  Downloading https://files.pythonhosted.org/packages/50/91/db00bb8a71a500c4c1fb4cdeed7853f38e44403a340dff7f3256f1035c28/unary_coding-1.0.3.tar.gz\n",
            "Building wheels for collected packages: golomb-coding, minimal-binary-coding, unary-coding\n",
            "  Building wheel for golomb-coding (setup.py) ... \u001b[?25l\u001b[?25hdone\n",
            "  Created wheel for golomb-coding: filename=golomb_coding-1.0.5-cp37-none-any.whl size=3282 sha256=33ca49fa4c900cf8ba71b2941853417398fd3b8b8520f5b77aa21377b5999209\n",
            "  Stored in directory: /root/.cache/pip/wheels/5a/b7/94/7c753fcc19097826b5b4962c2d96f4e355efd2ac391e8660e7\n",
            "  Building wheel for minimal-binary-coding (setup.py) ... \u001b[?25l\u001b[?25hdone\n",
            "  Created wheel for minimal-binary-coding: filename=minimal_binary_coding-1.0.1-cp37-none-any.whl size=3234 sha256=b07e119c93b710a46f61c0bd963eba7460e121130066063cef2f97ca3ca8ab30\n",
            "  Stored in directory: /root/.cache/pip/wheels/3c/aa/84/899d6a316309f425704e162369de73e91761bb4a86bdd9b763\n",
            "  Building wheel for unary-coding (setup.py) ... \u001b[?25l\u001b[?25hdone\n",
            "  Created wheel for unary-coding: filename=unary_coding-1.0.3-cp37-none-any.whl size=2868 sha256=b46cef6776063d627466c00f206a8f60968e2e790921417984435002f2ad38e7\n",
            "  Stored in directory: /root/.cache/pip/wheels/f5/10/38/2d7d8e3d7efa41eb95d8aea308f3114b2ff83ac45820d1e69c\n",
            "Successfully built golomb-coding minimal-binary-coding unary-coding\n",
            "Installing collected packages: minimal-binary-coding, unary-coding, golomb-coding\n",
            "Successfully installed golomb-coding-1.0.5 minimal-binary-coding-1.0.1 unary-coding-1.0.3\n"
          ],
          "name": "stdout"
        }
      ]
    },
    {
      "cell_type": "code",
      "metadata": {
        "colab": {
          "base_uri": "https://localhost:8080/"
        },
        "id": "JwA54tenyN0I",
        "outputId": "02763dc6-ab39-4655-df35-a0436bf41764"
      },
      "source": [
        "from golomb_coding import golomb_coding\n",
        "for i in range(2,21,2):\n",
        "  print(\"number=>> \",i,\" Golomb Encoding=>>  \",golomb_coding(i, 10))\n"
      ],
      "execution_count": null,
      "outputs": [
        {
          "output_type": "stream",
          "text": [
            "number=>>  2  Golomb Encoding=>>   1010\n",
            "number=>>  4  Golomb Encoding=>>   1100\n",
            "number=>>  6  Golomb Encoding=>>   11100\n",
            "number=>>  8  Golomb Encoding=>>   11110\n",
            "number=>>  10  Golomb Encoding=>>   01000\n",
            "number=>>  12  Golomb Encoding=>>   01010\n",
            "number=>>  14  Golomb Encoding=>>   01100\n",
            "number=>>  16  Golomb Encoding=>>   011100\n",
            "number=>>  18  Golomb Encoding=>>   011110\n",
            "number=>>  20  Golomb Encoding=>>   001000\n"
          ],
          "name": "stdout"
        }
      ]
    },
    {
      "cell_type": "code",
      "metadata": {
        "colab": {
          "base_uri": "https://localhost:8080/"
        },
        "id": "_JVrED1Yyekd",
        "outputId": "e217d238-19fd-424e-9895-d46c43dce6cb"
      },
      "source": [
        "#Elias Delta Coding \n",
        "#Written by Harshit Soni 19BCE0819\n",
        "import math\n",
        "\n",
        "def gamma(t):\n",
        "    x=[];\n",
        "    y=[];\n",
        "    while(t>0):\n",
        "        x.append(t%2);\n",
        "        t=int(t/2);\n",
        "    for i in range(len(x)-1):\n",
        "        y.append(0);\n",
        "    for i in range(len(x)):\n",
        "        y.append(x.pop());\n",
        "    return y;\n",
        " \n",
        "def EliasDelta_coding(x):\n",
        "    t=math.floor(1+math.log(x,2));\n",
        "    p=gamma(t);\n",
        "    y=[];\n",
        "    while(x>0):\n",
        "        y.append(x%2);\n",
        "        x=int(x/2);\n",
        "    y.pop();\n",
        "    for i in range(len(y)):\n",
        "        p.append(y.pop());\n",
        "    a=''.join(map(str,p));\n",
        "    return a;\n",
        "\n",
        "\n",
        "for i in range(2,21,2):\n",
        "  print(\"number=>> \",i,\" Elias Delta Encoding=>>  \",EliasDelta_coding(i))\n",
        "print(type(EliasDelta_coding(12)))"
      ],
      "execution_count": null,
      "outputs": [
        {
          "output_type": "stream",
          "text": [
            "number=>>  2  Elias Delta Encoding=>>   0100\n",
            "number=>>  4  Elias Delta Encoding=>>   01100\n",
            "number=>>  6  Elias Delta Encoding=>>   01110\n",
            "number=>>  8  Elias Delta Encoding=>>   00100000\n",
            "number=>>  10  Elias Delta Encoding=>>   00100010\n",
            "number=>>  12  Elias Delta Encoding=>>   00100100\n",
            "number=>>  14  Elias Delta Encoding=>>   00100110\n",
            "number=>>  16  Elias Delta Encoding=>>   001010000\n",
            "number=>>  18  Elias Delta Encoding=>>   001010010\n",
            "number=>>  20  Elias Delta Encoding=>>   001010100\n",
            "<class 'str'>\n"
          ],
          "name": "stdout"
        }
      ]
    },
    {
      "cell_type": "code",
      "metadata": {
        "colab": {
          "base_uri": "https://localhost:8080/"
        },
        "id": "R3LX-zXP3PLm",
        "outputId": "4eb6a736-1eef-486a-937b-ddf4f88ba416"
      },
      "source": [
        "#Elias Delta De Coding \n",
        "#Written by Harshit Soni 19BCE0819\n",
        "\n",
        "import math\n",
        "\n",
        "def decode(x):\n",
        "    num=0;\n",
        "    for i in range(len(x)):\n",
        "        num+=(int(x[len(x)-1-i])*(math.pow(2,i)));\n",
        "    return num;\n",
        "\n",
        "def EliasDelta_DEcoding(x):\n",
        "    if(x=='1'):\n",
        "        print('1');\n",
        "        exit;\n",
        "    else:\n",
        "        x=list(x);\n",
        "        t=0;    \n",
        "        v=[];\n",
        "        b=0;\n",
        "        w=[];\n",
        "        c=0;\n",
        "        for i in x:\n",
        "            if(b!=1):\n",
        "                if(i=='0'):\n",
        "                    t+=1;\n",
        "                else:\n",
        "                    v.append(i);\n",
        "                    b=1;\n",
        "            elif(c!=1):\n",
        "                if(t==0):\n",
        "                    c=1;\n",
        "                    w.append('1');\n",
        "                    w.append(i);\n",
        "                else:\n",
        "                    v.append(i);\n",
        "                    t-=1;\n",
        "            else:\n",
        "                num=decode(v);\n",
        "                if(num==0):\n",
        "                    break;\n",
        "                else:\n",
        "                    w.append(i);\n",
        "                    num-=1;\n",
        "        ans=decode(w);\n",
        "        return int(ans);\n",
        "\n",
        "for i in range(2,21,2):\n",
        "  print(\" Elias Delta Encoding=>>\",EliasDelta_coding(i),\" number=>> \",EliasDelta_DEcoding(EliasDelta_coding(i)))"
      ],
      "execution_count": null,
      "outputs": [
        {
          "output_type": "stream",
          "text": [
            " Elias Delta Encoding=>> 0100  number=>>  2\n",
            " Elias Delta Encoding=>> 01100  number=>>  4\n",
            " Elias Delta Encoding=>> 01110  number=>>  6\n",
            " Elias Delta Encoding=>> 00100000  number=>>  8\n",
            " Elias Delta Encoding=>> 00100010  number=>>  10\n",
            " Elias Delta Encoding=>> 00100100  number=>>  12\n",
            " Elias Delta Encoding=>> 00100110  number=>>  14\n",
            " Elias Delta Encoding=>> 001010000  number=>>  16\n",
            " Elias Delta Encoding=>> 001010010  number=>>  18\n",
            " Elias Delta Encoding=>> 001010100  number=>>  20\n"
          ],
          "name": "stdout"
        }
      ]
    },
    {
      "cell_type": "code",
      "metadata": {
        "colab": {
          "base_uri": "https://localhost:8080/"
        },
        "id": "g7mqPNU445ZZ",
        "outputId": "9181760f-eda7-4c8d-ba9e-321a85aed97e"
      },
      "source": [
        " #Elias Gamma Enoding \n",
        "#Written by Harshit Soni 19BCE0819\n",
        "from math import log \n",
        "\n",
        "log2 = lambda x: log(x, 2) \n",
        "\n",
        "def Unary(x): \n",
        "\treturn (x-1)*'0'+'1'\n",
        "\n",
        "def Binary(x, l = 1): \n",
        "\ts = '{0:0%db}' % l \n",
        "\treturn s.format(x) \n",
        "\t\n",
        "def Elias_Gamma(x): \n",
        "\tif(x == 0): \n",
        "\t\treturn '0'\n",
        "\n",
        "\tn = 1 + int(log2(x)) \n",
        "\tb = x - 2**(int(log2(x))) \n",
        "\n",
        "\tl = int(log2(x)) \n",
        "\n",
        "\treturn Unary(n) + Binary(b, l) \n",
        "\n",
        "for i in range(2,21,2):\n",
        "  print(\"number=>> \",i,\" Elias Gamma Encoding=>>  \",Elias_Gamma(i))"
      ],
      "execution_count": null,
      "outputs": [
        {
          "output_type": "stream",
          "text": [
            "number=>>  2  Elias Gamma Encoding=>>   010\n",
            "number=>>  4  Elias Gamma Encoding=>>   00100\n",
            "number=>>  6  Elias Gamma Encoding=>>   00110\n",
            "number=>>  8  Elias Gamma Encoding=>>   0001000\n",
            "number=>>  10  Elias Gamma Encoding=>>   0001010\n",
            "number=>>  12  Elias Gamma Encoding=>>   0001100\n",
            "number=>>  14  Elias Gamma Encoding=>>   0001110\n",
            "number=>>  16  Elias Gamma Encoding=>>   000010000\n",
            "number=>>  18  Elias Gamma Encoding=>>   000010010\n",
            "number=>>  20  Elias Gamma Encoding=>>   000010100\n"
          ],
          "name": "stdout"
        }
      ]
    },
    {
      "cell_type": "code",
      "metadata": {
        "colab": {
          "base_uri": "https://localhost:8080/"
        },
        "id": "_C0xWnjl7hW3",
        "outputId": "4ef806ec-13b9-403e-aee4-3c82436cb404"
      },
      "source": [
        "#Elias Gamma Decoding \n",
        "#Written by Harshit Soni 19BCE0819\n",
        "def elias_gamma_decoding(codeword):\n",
        "    count = 0\n",
        "    first_one_idx = -1\n",
        "    for i in range(len(codeword)):\n",
        "        if codeword[i] == '0':\n",
        "            count += 1\n",
        "        else:\n",
        "            first_one_idx = i\n",
        "            break\n",
        "    dataword = ''\n",
        "    for i in range(first_one_idx, first_one_idx + count + 1):\n",
        "        dataword += codeword[i]\n",
        "    \n",
        "    dataword = binary_to_decimal(dataword)\n",
        "    return dataword\n",
        "\n",
        "print(\"Elias Gamma Encoding=>>\",Elias_Gamma(2),\"    number=>> \",elias_gamma_decoding(\"010\"))\n",
        "print(\"Elias Gamma Encoding=>>\",Elias_Gamma(4),\"    number=>> \",elias_gamma_decoding(\"00100\"))\n",
        "print(\"Elias Gamma Encoding=>>\",Elias_Gamma(6),\"    number=>> \",elias_gamma_decoding(\"00110\"))\n",
        "print(\"Elias Gamma Encoding=>>\",Elias_Gamma(8),\"    number=>> \",elias_gamma_decoding(\"0001000\"))\n",
        "print(\"Elias Gamma Encoding=>>\",Elias_Gamma(10),\"    number=>> \",elias_gamma_decoding(\"0001010\"))\n",
        "print(\"Elias Gamma Encoding=>>\",Elias_Gamma(12),\"    number=>> \",elias_gamma_decoding(\"0001100\"))\n",
        "print(\"Elias Gamma Encoding=>>\",Elias_Gamma(14),\"    number=>> \",elias_gamma_decoding(\"0001110\"))\n",
        "print(\"Elias Gamma Encoding=>>\",Elias_Gamma(16),\"    number=>> \",elias_gamma_decoding(\"000010000\"))\n",
        "print(\"Elias Gamma Encoding=>>\",Elias_Gamma(18),\"    number=>> \",elias_gamma_decoding(\"000010010\"))\n",
        "print(\"Elias Gamma Encoding=>>\",Elias_Gamma(20),\"    number=>> \",elias_gamma_decoding(\"000010100\"))"
      ],
      "execution_count": null,
      "outputs": [
        {
          "output_type": "stream",
          "text": [
            "Elias Gamma Encoding=>> 010     number=>>  2\n",
            "Elias Gamma Encoding=>> 00100     number=>>  4\n",
            "Elias Gamma Encoding=>> 00110     number=>>  6\n",
            "Elias Gamma Encoding=>> 0001000     number=>>  8\n",
            "Elias Gamma Encoding=>> 0001010     number=>>  10\n",
            "Elias Gamma Encoding=>> 0001100     number=>>  12\n",
            "Elias Gamma Encoding=>> 0001110     number=>>  14\n",
            "Elias Gamma Encoding=>> 000010000     number=>>  16\n",
            "Elias Gamma Encoding=>> 000010010     number=>>  18\n",
            "Elias Gamma Encoding=>> 000010100     number=>>  20\n"
          ],
          "name": "stdout"
        }
      ]
    },
    {
      "cell_type": "code",
      "metadata": {
        "id": "lF0IvY5T_GKh"
      },
      "source": [
        ""
      ],
      "execution_count": null,
      "outputs": []
    }
  ]
}